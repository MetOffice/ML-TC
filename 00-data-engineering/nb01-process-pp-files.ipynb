{
 "cells": [
  {
   "cell_type": "markdown",
   "id": "mediterranean-district",
   "metadata": {},
   "source": [
    "# Process pp files\n",
    "\n",
    "This notebook develops and tests the method of processing pp files.  "
   ]
  },
  {
   "cell_type": "code",
   "execution_count": 1,
   "id": "collective-cooking",
   "metadata": {},
   "outputs": [],
   "source": [
    "import iris\n",
    "\n",
    "DATADIR = \"/scratch/hsteptoe\""
   ]
  },
  {
   "cell_type": "code",
   "execution_count": null,
   "id": "rolled-train",
   "metadata": {},
   "outputs": [],
   "source": []
  }
 ],
 "metadata": {
  "kernelspec": {
   "display_name": "ml-tc",
   "language": "python",
   "name": "ml-tc"
  },
  "language_info": {
   "codemirror_mode": {
    "name": "ipython",
    "version": 3
   },
   "file_extension": ".py",
   "mimetype": "text/x-python",
   "name": "python",
   "nbconvert_exporter": "python",
   "pygments_lexer": "ipython3",
   "version": "3.6.6"
  }
 },
 "nbformat": 4,
 "nbformat_minor": 5
}
